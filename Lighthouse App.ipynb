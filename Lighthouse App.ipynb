{
 "cells": [
  {
   "cell_type": "code",
   "execution_count": 4,
   "metadata": {},
   "outputs": [],
   "source": [
    "import streamlit as st\n",
    "import pandas as pd\n",
    "from langchain.chat_models import ChatOpenAI\n",
    "from langchain.agents import create_pandas_dataframe_agent\n",
    "from langchain.agents.agent_types import AgentType\n",
    "\n"
   ]
  },
  {
   "cell_type": "code",
   "execution_count": 5,
   "metadata": {},
   "outputs": [
    {
     "data": {
      "text/plain": [
       "DeltaGenerator()"
      ]
     },
     "execution_count": 5,
     "metadata": {},
     "output_type": "execute_result"
    }
   ],
   "source": [
    "# Page title\n",
    "st.set_page_config(page_title='🦜🔗 Ask the Data App')\n",
    "st.title('🦜🔗 Ask the Data App')\n",
    "\n"
   ]
  },
  {
   "cell_type": "code",
   "execution_count": 6,
   "metadata": {},
   "outputs": [],
   "source": [
    "# Load CSV file\n",
    "def load_csv(input_csv):\n",
    "  df = pd.read_csv(input_csv)\n",
    "  with st.expander('See DataFrame'):\n",
    "    st.write(df)\n",
    "  return df\n"
   ]
  },
  {
   "cell_type": "code",
   "execution_count": 7,
   "metadata": {},
   "outputs": [],
   "source": [
    "\n",
    "# Generate LLM response\n",
    "def generate_response(csv_file, input_query):\n",
    "  llm = ChatOpenAI(model_name='gpt-3.5-turbo-0613', temperature=0.2, openai_api_key=openai_api_key)\n",
    "  df = load_csv(csv_file)\n",
    "  # Create Pandas DataFrame Agent\n",
    "  agent = create_pandas_dataframe_agent(llm, df, verbose=True, agent_type=AgentType.OPENAI_FUNCTIONS)\n",
    "  # Perform Query using the Agent\n",
    "  response = agent.run(input_query)\n",
    "  return st.success(response)\n"
   ]
  },
  {
   "cell_type": "code",
   "execution_count": 8,
   "metadata": {},
   "outputs": [],
   "source": [
    "\n",
    "# Input widgets\n",
    "uploaded_file = st.file_uploader('Upload a CSV file', type=['csv'])\n",
    "question_list = [\n",
    "  'How many rows are there?',\n",
    "  'What is the range of values for MolWt with logS greater than 0?',\n",
    "  'How many rows have MolLogP value greater than 0.',\n",
    "  'Other']\n",
    "query_text = st.selectbox('Select an example query:', question_list, disabled=not uploaded_file)\n",
    "openai_api_key = st.text_input('OpenAI API Key', type='password', disabled=not (uploaded_file and query_text))\n"
   ]
  },
  {
   "cell_type": "code",
   "execution_count": 10,
   "metadata": {},
   "outputs": [],
   "source": [
    "\n",
    "# App logic\n",
    "if query_text == 'Other':\n",
    "  query_text = st.text_input('Enter your query:', placeholder = 'Enter query here ...', disabled=not uploaded_file)\n",
    "if not openai_api_key.startswith('sk-'):\n",
    "  st.warning('Please enter your OpenAI API key!', icon='⚠')\n",
    "if openai_api_key.startswith('sk-') and (uploaded_file is not None):\n",
    "  st.header('Output')\n",
    "  generate_response(uploaded_file, query_text)"
   ]
  }
 ],
 "metadata": {
  "kernelspec": {
   "display_name": "Python 3",
   "language": "python",
   "name": "python3"
  },
  "language_info": {
   "codemirror_mode": {
    "name": "ipython",
    "version": 3
   },
   "file_extension": ".py",
   "mimetype": "text/x-python",
   "name": "python",
   "nbconvert_exporter": "python",
   "pygments_lexer": "ipython3",
   "version": "3.11.4"
  },
  "orig_nbformat": 4
 },
 "nbformat": 4,
 "nbformat_minor": 2
}
